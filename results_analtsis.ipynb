{
 "cells": [
  {
   "cell_type": "code",
   "execution_count": 1,
   "id": "ae2560ca",
   "metadata": {},
   "outputs": [],
   "source": [
    "import pandas as pd\n",
    "from glob import glob\n",
    "import seaborn as sns\n",
    "import matplotlib.pyplot as plt\n",
    "import sqlite3"
   ]
  },
  {
   "cell_type": "code",
   "execution_count": 6,
   "id": "7324dd53",
   "metadata": {},
   "outputs": [],
   "source": [
    "con = sqlite3.connect('model_preformance.db')\n",
    "\n",
    "all_res = pd.read_sql('select * from results',con = con)"
   ]
  },
  {
   "cell_type": "code",
   "execution_count": 7,
   "id": "00e8bca3",
   "metadata": {},
   "outputs": [
    {
     "data": {
      "text/html": [
       "<div>\n",
       "<style scoped>\n",
       "    .dataframe tbody tr th:only-of-type {\n",
       "        vertical-align: middle;\n",
       "    }\n",
       "\n",
       "    .dataframe tbody tr th {\n",
       "        vertical-align: top;\n",
       "    }\n",
       "\n",
       "    .dataframe thead th {\n",
       "        text-align: right;\n",
       "    }\n",
       "</style>\n",
       "<table border=\"1\" class=\"dataframe\">\n",
       "  <thead>\n",
       "    <tr style=\"text-align: right;\">\n",
       "      <th></th>\n",
       "      <th>iteration</th>\n",
       "      <th>total_reward</th>\n",
       "      <th>type</th>\n",
       "      <th>action_space_</th>\n",
       "    </tr>\n",
       "  </thead>\n",
       "  <tbody>\n",
       "    <tr>\n",
       "      <th>0</th>\n",
       "      <td>1</td>\n",
       "      <td>-197.015866</td>\n",
       "      <td>100_deep_q_bellman_act_200</td>\n",
       "      <td>7</td>\n",
       "    </tr>\n",
       "    <tr>\n",
       "      <th>1</th>\n",
       "      <td>2</td>\n",
       "      <td>-221.732259</td>\n",
       "      <td>100_deep_q_bellman_act_200</td>\n",
       "      <td>7</td>\n",
       "    </tr>\n",
       "    <tr>\n",
       "      <th>2</th>\n",
       "      <td>3</td>\n",
       "      <td>-373.149169</td>\n",
       "      <td>100_deep_q_bellman_act_200</td>\n",
       "      <td>7</td>\n",
       "    </tr>\n",
       "    <tr>\n",
       "      <th>3</th>\n",
       "      <td>4</td>\n",
       "      <td>-415.580930</td>\n",
       "      <td>100_deep_q_bellman_act_200</td>\n",
       "      <td>7</td>\n",
       "    </tr>\n",
       "    <tr>\n",
       "      <th>4</th>\n",
       "      <td>5</td>\n",
       "      <td>-280.875208</td>\n",
       "      <td>100_deep_q_bellman_act_200</td>\n",
       "      <td>7</td>\n",
       "    </tr>\n",
       "  </tbody>\n",
       "</table>\n",
       "</div>"
      ],
      "text/plain": [
       "   iteration  total_reward                        type  action_space_\n",
       "0          1   -197.015866  100_deep_q_bellman_act_200              7\n",
       "1          2   -221.732259  100_deep_q_bellman_act_200              7\n",
       "2          3   -373.149169  100_deep_q_bellman_act_200              7\n",
       "3          4   -415.580930  100_deep_q_bellman_act_200              7\n",
       "4          5   -280.875208  100_deep_q_bellman_act_200              7"
      ]
     },
     "execution_count": 7,
     "metadata": {},
     "output_type": "execute_result"
    }
   ],
   "source": [
    "all_res.head()"
   ]
  },
  {
   "cell_type": "code",
   "execution_count": 8,
   "id": "184ac9ca",
   "metadata": {},
   "outputs": [
    {
     "data": {
      "text/plain": [
       "11                   100_deep_q_bellman_1.0\n",
       "7     100_deep_q_bellman_0.6000000000000001\n",
       "20               100_deep_q_bellman_act_500\n",
       "10                   100_deep_q_bellman_0.9\n",
       "3                    100_deep_q_bellman_0.2\n",
       "Name: type, dtype: object"
      ]
     },
     "execution_count": 8,
     "metadata": {},
     "output_type": "execute_result"
    }
   ],
   "source": [
    "top = all_res.groupby('type')['total_reward'].mean().reset_index().sort_values('total_reward')\n",
    "top.tail(5)['type']"
   ]
  },
  {
   "cell_type": "code",
   "execution_count": 9,
   "id": "55b9b5d2",
   "metadata": {},
   "outputs": [
    {
     "data": {
      "image/png": "[encoded data removed]",
      "text/plain": [
       "<Figure size 1440x360 with 1 Axes>"
      ]
     },
     "metadata": {
      "needs_background": "light"
     },
     "output_type": "display_data"
    }
   ],
   "source": [
    "fig=plt.figure(figsize=(20,5))\n",
    "ax = sns.boxplot(x=\"type\", y=\"total_reward\", data=all_res[all_res['type'].isin(top.tail(8)['type'])])\n",
    "plt.tight_layout()\n",
    "plt.show()"
   ]
  },
  {
   "cell_type": "code",
   "execution_count": 10,
   "id": "44949c6e",
   "metadata": {},
   "outputs": [
    {
     "data": {
      "text/html": [
       "<div>\n",
       "<style scoped>\n",
       "    .dataframe tbody tr th:only-of-type {\n",
       "        vertical-align: middle;\n",
       "    }\n",
       "\n",
       "    .dataframe tbody tr th {\n",
       "        vertical-align: top;\n",
       "    }\n",
       "\n",
       "    .dataframe thead th {\n",
       "        text-align: right;\n",
       "    }\n",
       "</style>\n",
       "<table border=\"1\" class=\"dataframe\">\n",
       "  <thead>\n",
       "    <tr style=\"text-align: right;\">\n",
       "      <th></th>\n",
       "      <th>iteration</th>\n",
       "      <th>total_reward</th>\n",
       "      <th>type</th>\n",
       "      <th>action_space_</th>\n",
       "    </tr>\n",
       "  </thead>\n",
       "  <tbody>\n",
       "    <tr>\n",
       "      <th>0</th>\n",
       "      <td>1</td>\n",
       "      <td>-197.015866</td>\n",
       "      <td>100_deep_q_bellman_act_200</td>\n",
       "      <td>7</td>\n",
       "    </tr>\n",
       "    <tr>\n",
       "      <th>1</th>\n",
       "      <td>2</td>\n",
       "      <td>-221.732259</td>\n",
       "      <td>100_deep_q_bellman_act_200</td>\n",
       "      <td>7</td>\n",
       "    </tr>\n",
       "    <tr>\n",
       "      <th>2</th>\n",
       "      <td>3</td>\n",
       "      <td>-373.149169</td>\n",
       "      <td>100_deep_q_bellman_act_200</td>\n",
       "      <td>7</td>\n",
       "    </tr>\n",
       "    <tr>\n",
       "      <th>3</th>\n",
       "      <td>4</td>\n",
       "      <td>-415.580930</td>\n",
       "      <td>100_deep_q_bellman_act_200</td>\n",
       "      <td>7</td>\n",
       "    </tr>\n",
       "    <tr>\n",
       "      <th>4</th>\n",
       "      <td>5</td>\n",
       "      <td>-280.875208</td>\n",
       "      <td>100_deep_q_bellman_act_200</td>\n",
       "      <td>7</td>\n",
       "    </tr>\n",
       "  </tbody>\n",
       "</table>\n",
       "</div>"
      ],
      "text/plain": [
       "   iteration  total_reward                        type  action_space_\n",
       "0          1   -197.015866  100_deep_q_bellman_act_200              7\n",
       "1          2   -221.732259  100_deep_q_bellman_act_200              7\n",
       "2          3   -373.149169  100_deep_q_bellman_act_200              7\n",
       "3          4   -415.580930  100_deep_q_bellman_act_200              7\n",
       "4          5   -280.875208  100_deep_q_bellman_act_200              7"
      ]
     },
     "execution_count": 10,
     "metadata": {},
     "output_type": "execute_result"
    }
   ],
   "source": [
    "all_res.head()"
   ]
  },
  {
   "cell_type": "code",
   "execution_count": 11,
   "id": "b4964ad4",
   "metadata": {},
   "outputs": [
    {
     "data": {
      "text/plain": [
       "array(['100_deep_q_bellman_act_200', '100_deep_q_bellman_act_800',\n",
       "       '100_deep_q_bellman_act_1000', '100_deep_q_bellman_act_700',\n",
       "       '100_deep_q_bellman_act_500', '100_deep_q_bellman_0.8',\n",
       "       '100_deep_q_bellman_0.5', '100_deep_q_bellman_0.6000000000000001',\n",
       "       '100_deep_q_bellman_1.3', '100_deep_q_bellman_0.1',\n",
       "       '100_deep_q_bellman_1.1', '100_deep_q_bellman_act_900',\n",
       "       '100_deep_q_bellman_act_300', '100_deep_q_4',\n",
       "       '100_deep_q_bellman_0.30000000000000004',\n",
       "       '100_deep_q_bellman_act_600', '100_deep_q_bellman_1.0',\n",
       "       '100_deep_q', '100_deep_q_bellman_act_400',\n",
       "       '100_deep_q_bellman_0.7000000000000001', 'basic_deep_q',\n",
       "       '100_deep_q_bellman_1.2000000000000002', '100_deep_q_bellman_0.4',\n",
       "       '100_deep_q_bellman_0.9', '100_deep_q_bellman_0.2', 'random',\n",
       "       '100_deep_q_bellman_act_100', 'policy'], dtype=object)"
      ]
     },
     "execution_count": 11,
     "metadata": {},
     "output_type": "execute_result"
    }
   ],
   "source": [
    "all_res['type'].unique()"
   ]
  },
  {
   "cell_type": "code",
   "execution_count": 12,
   "id": "9e772a8a",
   "metadata": {},
   "outputs": [
    {
     "data": {
      "text/html": [
       "<div>\n",
       "<style scoped>\n",
       "    .dataframe tbody tr th:only-of-type {\n",
       "        vertical-align: middle;\n",
       "    }\n",
       "\n",
       "    .dataframe tbody tr th {\n",
       "        vertical-align: top;\n",
       "    }\n",
       "\n",
       "    .dataframe thead th {\n",
       "        text-align: right;\n",
       "    }\n",
       "</style>\n",
       "<table border=\"1\" class=\"dataframe\">\n",
       "  <thead>\n",
       "    <tr style=\"text-align: right;\">\n",
       "      <th></th>\n",
       "      <th>iteration</th>\n",
       "      <th>total_reward</th>\n",
       "      <th>type</th>\n",
       "      <th>action_space_</th>\n",
       "    </tr>\n",
       "  </thead>\n",
       "  <tbody>\n",
       "    <tr>\n",
       "      <th>12800</th>\n",
       "      <td>0</td>\n",
       "      <td>-586.556764</td>\n",
       "      <td>policy</td>\n",
       "      <td>211</td>\n",
       "    </tr>\n",
       "    <tr>\n",
       "      <th>12801</th>\n",
       "      <td>0</td>\n",
       "      <td>-569.712963</td>\n",
       "      <td>policy</td>\n",
       "      <td>211</td>\n",
       "    </tr>\n",
       "    <tr>\n",
       "      <th>12802</th>\n",
       "      <td>1</td>\n",
       "      <td>-741.815672</td>\n",
       "      <td>policy</td>\n",
       "      <td>211</td>\n",
       "    </tr>\n",
       "    <tr>\n",
       "      <th>12803</th>\n",
       "      <td>2</td>\n",
       "      <td>-545.358135</td>\n",
       "      <td>policy</td>\n",
       "      <td>211</td>\n",
       "    </tr>\n",
       "    <tr>\n",
       "      <th>12804</th>\n",
       "      <td>3</td>\n",
       "      <td>-666.639283</td>\n",
       "      <td>policy</td>\n",
       "      <td>211</td>\n",
       "    </tr>\n",
       "    <tr>\n",
       "      <th>...</th>\n",
       "      <td>...</td>\n",
       "      <td>...</td>\n",
       "      <td>...</td>\n",
       "      <td>...</td>\n",
       "    </tr>\n",
       "    <tr>\n",
       "      <th>17037</th>\n",
       "      <td>4236</td>\n",
       "      <td>-506.788084</td>\n",
       "      <td>policy</td>\n",
       "      <td>211</td>\n",
       "    </tr>\n",
       "    <tr>\n",
       "      <th>17038</th>\n",
       "      <td>4237</td>\n",
       "      <td>-410.201957</td>\n",
       "      <td>policy</td>\n",
       "      <td>211</td>\n",
       "    </tr>\n",
       "    <tr>\n",
       "      <th>17039</th>\n",
       "      <td>4238</td>\n",
       "      <td>-490.383913</td>\n",
       "      <td>policy</td>\n",
       "      <td>211</td>\n",
       "    </tr>\n",
       "    <tr>\n",
       "      <th>17040</th>\n",
       "      <td>4239</td>\n",
       "      <td>-598.548095</td>\n",
       "      <td>policy</td>\n",
       "      <td>211</td>\n",
       "    </tr>\n",
       "    <tr>\n",
       "      <th>17041</th>\n",
       "      <td>4240</td>\n",
       "      <td>-482.262857</td>\n",
       "      <td>policy</td>\n",
       "      <td>211</td>\n",
       "    </tr>\n",
       "  </tbody>\n",
       "</table>\n",
       "<p>4242 rows × 4 columns</p>\n",
       "</div>"
      ],
      "text/plain": [
       "       iteration  total_reward    type  action_space_\n",
       "12800          0   -586.556764  policy            211\n",
       "12801          0   -569.712963  policy            211\n",
       "12802          1   -741.815672  policy            211\n",
       "12803          2   -545.358135  policy            211\n",
       "12804          3   -666.639283  policy            211\n",
       "...          ...           ...     ...            ...\n",
       "17037       4236   -506.788084  policy            211\n",
       "17038       4237   -410.201957  policy            211\n",
       "17039       4238   -490.383913  policy            211\n",
       "17040       4239   -598.548095  policy            211\n",
       "17041       4240   -482.262857  policy            211\n",
       "\n",
       "[4242 rows x 4 columns]"
      ]
     },
     "execution_count": 12,
     "metadata": {},
     "output_type": "execute_result"
    }
   ],
   "source": [
    "all_res[all_res['type']=='policy']"
   ]
  },
  {
   "cell_type": "code",
   "execution_count": 15,
   "id": "8e3d9f0b",
   "metadata": {},
   "outputs": [
    {
     "data": {
      "text/plain": [
       "<AxesSubplot:xlabel='iteration', ylabel='total_reward'>"
      ]
     },
     "execution_count": 15,
     "metadata": {},
     "output_type": "execute_result"
    },
    {
     "data": {
      "image/png": "[encoded data removed]",
      "text/plain": [
       "<Figure size 432x288 with 1 Axes>"
      ]
     },
     "metadata": {
      "needs_background": "light"
     },
     "output_type": "display_data"
    }
   ],
   "source": [
    "sns.lineplot(data=all_res[all_res['type'].isin(['policy','random'])],x='iteration',y='total_reward',hue='type' )"
   ]
  },
  {
   "cell_type": "code",
   "execution_count": null,
   "id": "5a9d43b8",
   "metadata": {},
   "outputs": [],
   "source": []
  }
 ],
 "metadata": {
  "kernelspec": {
   "display_name": "Python 3",
   "language": "python",
   "name": "python3"
  },
  "language_info": {
   "codemirror_mode": {
    "name": "ipython",
    "version": 3
   },
   "file_extension": ".py",
   "mimetype": "text/x-python",
   "name": "python",
   "nbconvert_exporter": "python",
   "pygments_lexer": "ipython3",
   "version": "3.7.10"
  }
 },
 "nbformat": 4,
 "nbformat_minor": 5
}
