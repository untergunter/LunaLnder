{
 "cells": [
  {
   "cell_type": "code",
   "execution_count": 1,
   "id": "4dad942d",
   "metadata": {},
   "outputs": [],
   "source": [
    "import pandas as pd\n",
    "from glob import glob\n",
    "import seaborn as sns\n",
    "import matplotlib.pyplot as plt"
   ]
  },
  {
   "cell_type": "code",
   "execution_count": 2,
   "id": "1562f02e",
   "metadata": {},
   "outputs": [
    {
     "data": {
      "text/plain": [
       "['deep_q_100_100_b_g_0.8.parquet.gzip',\n",
       " 'deep_q_100_100_b_g_0.5.parquet.gzip',\n",
       " 'deep_q_100_100_b_g_0.6000000000000001.parquet.gzip',\n",
       " 'deep_q_100_100_b_g_1.3.parquet.gzip',\n",
       " 'deep_q_100_100_b_g_0.1.parquet.gzip',\n",
       " 'deep_q_100_100_b_g_1.1.parquet.gzip',\n",
       " 'deep_q_100_100_4.parquet.gzip',\n",
       " 'deep_q_100_100_b_g_0.30000000000000004.parquet.gzip',\n",
       " 'deep_q_100_100_b_g_1.0.parquet.gzip',\n",
       " 'deep_q_100_100.parquet.gzip',\n",
       " 'deep_q_100_100_b.parquet.gzip',\n",
       " 'deep_q_100_100_b_g_0.7000000000000001.parquet.gzip',\n",
       " 'deep_q_10_10.parquet.gzip',\n",
       " 'deep_q_100_100_b_g_1.2000000000000002.parquet.gzip',\n",
       " 'deep_q_100_100_b_g_0.4.parquet.gzip',\n",
       " 'deep_q_100_100_b_g_0.9.parquet.gzip',\n",
       " 'deep_q_100_100_b_g_0.2.parquet.gzip',\n",
       " 'results.parquet.gzip',\n",
       " 'deep_q_100_100_b_g_{gamma}.parquet.gzip']"
      ]
     },
     "execution_count": 2,
     "metadata": {},
     "output_type": "execute_result"
    }
   ],
   "source": [
    "all_results = [file for file in glob(\"*.gzip\")]\n",
    "all_results"
   ]
  },
  {
   "cell_type": "code",
   "execution_count": 3,
   "id": "06d88324",
   "metadata": {},
   "outputs": [],
   "source": [
    "res = [pd.read_parquet(file) for file in all_results]"
   ]
  },
  {
   "cell_type": "code",
   "execution_count": 4,
   "id": "6c6d78a2",
   "metadata": {},
   "outputs": [],
   "source": [
    "all_res = pd.concat(res)"
   ]
  },
  {
   "cell_type": "code",
   "execution_count": 5,
   "id": "9aca7c47",
   "metadata": {},
   "outputs": [
    {
     "data": {
      "text/html": [
       "<div>\n",
       "<style scoped>\n",
       "    .dataframe tbody tr th:only-of-type {\n",
       "        vertical-align: middle;\n",
       "    }\n",
       "\n",
       "    .dataframe tbody tr th {\n",
       "        vertical-align: top;\n",
       "    }\n",
       "\n",
       "    .dataframe thead th {\n",
       "        text-align: right;\n",
       "    }\n",
       "</style>\n",
       "<table border=\"1\" class=\"dataframe\">\n",
       "  <thead>\n",
       "    <tr style=\"text-align: right;\">\n",
       "      <th></th>\n",
       "      <th>iteration</th>\n",
       "      <th>total_reward</th>\n",
       "      <th>type</th>\n",
       "      <th>action_space_</th>\n",
       "    </tr>\n",
       "  </thead>\n",
       "  <tbody>\n",
       "    <tr>\n",
       "      <th>0</th>\n",
       "      <td>1</td>\n",
       "      <td>-147.296663</td>\n",
       "      <td>100_deep_q_bellman_0.8</td>\n",
       "      <td>7</td>\n",
       "    </tr>\n",
       "    <tr>\n",
       "      <th>1</th>\n",
       "      <td>2</td>\n",
       "      <td>-119.533742</td>\n",
       "      <td>100_deep_q_bellman_0.8</td>\n",
       "      <td>7</td>\n",
       "    </tr>\n",
       "    <tr>\n",
       "      <th>2</th>\n",
       "      <td>3</td>\n",
       "      <td>-137.339610</td>\n",
       "      <td>100_deep_q_bellman_0.8</td>\n",
       "      <td>7</td>\n",
       "    </tr>\n",
       "    <tr>\n",
       "      <th>3</th>\n",
       "      <td>4</td>\n",
       "      <td>-117.595721</td>\n",
       "      <td>100_deep_q_bellman_0.8</td>\n",
       "      <td>7</td>\n",
       "    </tr>\n",
       "    <tr>\n",
       "      <th>4</th>\n",
       "      <td>5</td>\n",
       "      <td>-95.224494</td>\n",
       "      <td>100_deep_q_bellman_0.8</td>\n",
       "      <td>7</td>\n",
       "    </tr>\n",
       "  </tbody>\n",
       "</table>\n",
       "</div>"
      ],
      "text/plain": [
       "   iteration  total_reward                    type  action_space_\n",
       "0          1   -147.296663  100_deep_q_bellman_0.8              7\n",
       "1          2   -119.533742  100_deep_q_bellman_0.8              7\n",
       "2          3   -137.339610  100_deep_q_bellman_0.8              7\n",
       "3          4   -117.595721  100_deep_q_bellman_0.8              7\n",
       "4          5    -95.224494  100_deep_q_bellman_0.8              7"
      ]
     },
     "execution_count": 5,
     "metadata": {},
     "output_type": "execute_result"
    }
   ],
   "source": [
    "all_res.head()"
   ]
  },
  {
   "cell_type": "code",
   "execution_count": 6,
   "id": "92a425e0",
   "metadata": {},
   "outputs": [
    {
     "data": {
      "text/plain": [
       "8     100_deep_q_bellman_0.7000000000000001\n",
       "11                   100_deep_q_bellman_1.0\n",
       "7     100_deep_q_bellman_0.6000000000000001\n",
       "10                   100_deep_q_bellman_0.9\n",
       "3                    100_deep_q_bellman_0.2\n",
       "Name: type, dtype: object"
      ]
     },
     "execution_count": 6,
     "metadata": {},
     "output_type": "execute_result"
    }
   ],
   "source": [
    "top = all_res.groupby('type')['total_reward'].mean().reset_index().sort_values('total_reward')\n",
    "top.tail(5)['type']"
   ]
  },
  {
   "cell_type": "code",
   "execution_count": 7,
   "id": "ea049009",
   "metadata": {},
   "outputs": [
    {
     "data": {
      "image/png": "[encoded data removed]",
      "text/plain": [
       "<Figure size 1440x360 with 1 Axes>"
      ]
     },
     "metadata": {
      "needs_background": "light"
     },
     "output_type": "display_data"
    }
   ],
   "source": [
    "fig=plt.figure(figsize=(20,5))\n",
    "ax = sns.boxplot(x=\"type\", y=\"total_reward\", data=all_res[all_res['type'].isin(top.tail(5)['type'])])\n",
    "plt.tight_layout()\n",
    "plt.show()"
   ]
  },
  {
   "cell_type": "code",
   "execution_count": null,
   "id": "6fd7ba26",
   "metadata": {},
   "outputs": [],
   "source": []
  }
 ],
 "metadata": {
  "kernelspec": {
   "display_name": "Python 3",
   "language": "python",
   "name": "python3"
  },
  "language_info": {
   "codemirror_mode": {
    "name": "ipython",
    "version": 3
   },
   "file_extension": ".py",
   "mimetype": "text/x-python",
   "name": "python",
   "nbconvert_exporter": "python",
   "pygments_lexer": "ipython3",
   "version": "3.7.10"
  }
 },
 "nbformat": 4,
 "nbformat_minor": 5
}
