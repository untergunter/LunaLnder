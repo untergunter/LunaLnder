{
 "cells": [
  {
   "cell_type": "code",
   "execution_count": 22,
   "id": "fdbcf708",
   "metadata": {},
   "outputs": [],
   "source": [
    "import gym\n",
    "\n",
    "import numpy as np\n",
    "import pandas as pd\n",
    "import random\n",
    "import matplotlib\n",
    "import matplotlib.pyplot as plt\n",
    "%matplotlib inline\n",
    "from random import choice\n",
    "import torch\n",
    "import torch.nn as nn\n",
    "import torch.optim as optim\n",
    "import torch.nn.functional as F\n",
    "\n",
    "from ipywidgets import IntProgress\n",
    "from tqdm import tqdm\n",
    "import seaborn as sns\n",
    "from collections import defaultdict\n",
    "from tqdm import tqdm"
   ]
  },
  {
   "cell_type": "code",
   "execution_count": 14,
   "id": "4dbe71f3",
   "metadata": {},
   "outputs": [],
   "source": [
    "def calc_Bellman(rewards,gamma):\n",
    "    Bellman_rewards = []\n",
    "    rwords_for_long_train = np.array([])\n",
    "    for reword in rewards[::-1]:\n",
    "        rwords_for_long_train = np.append(rwords_for_long_train,np.array([reword]))\n",
    "        Bellman_rewards.append(np.sum(rwords_for_long_train))\n",
    "        rwords_for_long_train *= gamma\n",
    "    Bellman_rewards = Bellman_rewards[::-1]\n",
    "    return Bellman_rewards\n",
    "\n",
    "def make_actions():\n",
    "    actions = [(round(0.1*i,2),round(0.1 * j,2)) for i in range(1, 11) for j in range(-10,11)]\n",
    "    actions.append((-1, 0))\n",
    "    return actions\n"
   ]
  },
  {
   "cell_type": "code",
   "execution_count": 35,
   "id": "f4a468e3",
   "metadata": {},
   "outputs": [
    {
     "data": {
      "text/plain": [
       "defaultdict(<function __main__.<lambda>()>, {1: defaultdict(list, {'a': [1]})})"
      ]
     },
     "execution_count": 35,
     "metadata": {},
     "output_type": "execute_result"
    }
   ],
   "source": [
    "a = defaultdict(lambda : defaultdict(list))\n",
    "a[1]['a'].append(1)\n",
    "a"
   ]
  },
  {
   "cell_type": "code",
   "execution_count": 31,
   "id": "fa76a7a5",
   "metadata": {},
   "outputs": [],
   "source": [
    "class PolicyAgent:\n",
    "    \n",
    "    def __init__(self):\n",
    "        self.state_action_score = defaultdict(lambda : defaultdict(list)) # state : {act:[scores]...act:[scores]}\n",
    "        self.actions = make_actions()\n",
    "    \n",
    "    def normlize(self,state):\n",
    "        return tuple(np.round(state,decimals=2))\n",
    "    \n",
    "    def exploit(self,state):\n",
    "        state = self.normlize(state)\n",
    "        best_score = - np.inf\n",
    "        best_action = None\n",
    "        for action in self.state_action_score[state]:\n",
    "            score = np.mean(self.state_action_score[state][action])\n",
    "            if score < best_action:\n",
    "                best_action = score\n",
    "                best_action = action\n",
    "        if best_action is None: # never been here before - i dont know what to do !\n",
    "            action = self.explore(state)\n",
    "        return action\n",
    "    \n",
    "    def explore(self,state):\n",
    "        state = self.normlize(state)\n",
    "        minimal_number_of_observations = np.inf\n",
    "        potential_steps = []\n",
    "        for action in self.actions:\n",
    "            number_of_observations = len(self.state_action_score[state][action])\n",
    "            \n",
    "            if number_of_observations < minimal_number_of_observations:\n",
    "                potential_steps = [action]\n",
    "                minimal_number_of_observations = number_of_observations\n",
    "                \n",
    "            elif number_of_observations == minimal_number_of_observations:\n",
    "                potential_steps.append(action)\n",
    "                \n",
    "        return choice(potential_steps)\n",
    "    \n",
    "    def update(self,state,action,score):\n",
    "        state = self.normlize(state)\n",
    "        self.state_action_score[state][action].append(float(score))\n",
    "    \n",
    "    def update_multiple(self,states,actions,scores):\n",
    "        for state,action,score in zip (states,actions,scores):\n",
    "            self.update(state,action,score)\n",
    "            "
   ]
  },
  {
   "cell_type": "code",
   "execution_count": 32,
   "id": "bc9c5687",
   "metadata": {},
   "outputs": [],
   "source": [
    "def train(steps:int = 100_000):\n",
    "    \n",
    "    env = gym.make('LunarLanderContinuous-v2')\n",
    "    env.seed(0)\n",
    "    iterations,total_scores = [],[]\n",
    "    agent = PolicyAgent()\n",
    "    for step in tqdm(range(steps)):\n",
    "        \n",
    "        states,actions,rewards = [],[],[]\n",
    "        state = env.reset()\n",
    "        over = False\n",
    "        rounds = 0\n",
    "        \n",
    "        # play to learn\n",
    "        while (not over) & (rounds<201) :\n",
    "            action = agent.explore(state)\n",
    "            next_state, reward, over, _ = env.step(action)\n",
    "            actions.append(action)\n",
    "            states.append(state)\n",
    "            rewards.append(reward)\n",
    "            rounds += 1\n",
    "            state = next_state\n",
    "        \n",
    "        #learn from the game\n",
    "        agent.update_multiple(states,actions,rewards)\n",
    "        rewards = calc_Bellman(rewards,0.9)\n",
    "        agent.update_multiple(states,actions,rewards)\n",
    "        \n",
    "        #play to win\n",
    "        state = env.reset()\n",
    "        over = False\n",
    "        rounds = 0\n",
    "        total_score = 0\n",
    "        \n",
    "        # play to learn\n",
    "        while (not over) & (rounds<201) :\n",
    "            action = agent.exploit(state)\n",
    "            next_state, reward, over, _ = env.step(action)\n",
    "            total_score += reward\n",
    "            rounds += 1\n",
    "            state = next_state\n",
    "        iterations.append(step)\n",
    "        total_scores.append(total_score)\n",
    "        print (f'iteration:{step},score:{round(total_score,2)}')\n",
    "    return agent"
   ]
  },
  {
   "cell_type": "code",
   "execution_count": 33,
   "id": "4e48552e",
   "metadata": {},
   "outputs": [
    {
     "name": "stderr",
     "output_type": "stream",
     "text": [
      "  0%|          | 0/100000 [00:00<?, ?it/s]/home/ido/anaconda3/envs/rl/lib/python3.7/site-packages/numpy/core/fromnumeric.py:3420: RuntimeWarning: Mean of empty slice.\n",
      "  out=out, **kwargs)\n",
      "/home/ido/anaconda3/envs/rl/lib/python3.7/site-packages/numpy/core/_methods.py:188: RuntimeWarning: invalid value encountered in double_scalars\n",
      "  ret = ret.dtype.type(ret / rcount)\n",
      "  0%|          | 0/100000 [00:00<?, ?it/s]\n"
     ]
    },
    {
     "ename": "TypeError",
     "evalue": "'<' not supported between instances of 'float' and 'NoneType'",
     "output_type": "error",
     "traceback": [
      "\u001b[0;31m---------------------------------------------------------------------------\u001b[0m",
      "\u001b[0;31mTypeError\u001b[0m                                 Traceback (most recent call last)",
      "\u001b[0;32m<ipython-input-33-9c99aa9f0114>\u001b[0m in \u001b[0;36m<module>\u001b[0;34m\u001b[0m\n\u001b[0;32m----> 1\u001b[0;31m \u001b[0mlender\u001b[0m \u001b[0;34m=\u001b[0m \u001b[0mtrain\u001b[0m\u001b[0;34m(\u001b[0m\u001b[0;34m)\u001b[0m\u001b[0;34m\u001b[0m\u001b[0;34m\u001b[0m\u001b[0m\n\u001b[0m",
      "\u001b[0;32m<ipython-input-32-2106e927e16d>\u001b[0m in \u001b[0;36mtrain\u001b[0;34m(steps)\u001b[0m\n\u001b[1;32m     35\u001b[0m         \u001b[0;31m# play to learn\u001b[0m\u001b[0;34m\u001b[0m\u001b[0;34m\u001b[0m\u001b[0;34m\u001b[0m\u001b[0m\n\u001b[1;32m     36\u001b[0m         \u001b[0;32mwhile\u001b[0m \u001b[0;34m(\u001b[0m\u001b[0;32mnot\u001b[0m \u001b[0mover\u001b[0m\u001b[0;34m)\u001b[0m \u001b[0;34m&\u001b[0m \u001b[0;34m(\u001b[0m\u001b[0mrounds\u001b[0m\u001b[0;34m<\u001b[0m\u001b[0;36m201\u001b[0m\u001b[0;34m)\u001b[0m \u001b[0;34m:\u001b[0m\u001b[0;34m\u001b[0m\u001b[0;34m\u001b[0m\u001b[0m\n\u001b[0;32m---> 37\u001b[0;31m             \u001b[0maction\u001b[0m \u001b[0;34m=\u001b[0m \u001b[0magent\u001b[0m\u001b[0;34m.\u001b[0m\u001b[0mexploit\u001b[0m\u001b[0;34m(\u001b[0m\u001b[0mstate\u001b[0m\u001b[0;34m)\u001b[0m\u001b[0;34m\u001b[0m\u001b[0;34m\u001b[0m\u001b[0m\n\u001b[0m\u001b[1;32m     38\u001b[0m             \u001b[0mnext_state\u001b[0m\u001b[0;34m,\u001b[0m \u001b[0mreward\u001b[0m\u001b[0;34m,\u001b[0m \u001b[0mover\u001b[0m\u001b[0;34m,\u001b[0m \u001b[0m_\u001b[0m \u001b[0;34m=\u001b[0m \u001b[0menv\u001b[0m\u001b[0;34m.\u001b[0m\u001b[0mstep\u001b[0m\u001b[0;34m(\u001b[0m\u001b[0maction\u001b[0m\u001b[0;34m)\u001b[0m\u001b[0;34m\u001b[0m\u001b[0;34m\u001b[0m\u001b[0m\n\u001b[1;32m     39\u001b[0m             \u001b[0mtotal_score\u001b[0m \u001b[0;34m+=\u001b[0m \u001b[0mreward\u001b[0m\u001b[0;34m\u001b[0m\u001b[0;34m\u001b[0m\u001b[0m\n",
      "\u001b[0;32m<ipython-input-31-4b573e6faa85>\u001b[0m in \u001b[0;36mexploit\u001b[0;34m(self, state)\u001b[0m\n\u001b[1;32m     14\u001b[0m         \u001b[0;32mfor\u001b[0m \u001b[0maction\u001b[0m \u001b[0;32min\u001b[0m \u001b[0mself\u001b[0m\u001b[0;34m.\u001b[0m\u001b[0mstate_action_score\u001b[0m\u001b[0;34m[\u001b[0m\u001b[0mstate\u001b[0m\u001b[0;34m]\u001b[0m\u001b[0;34m:\u001b[0m\u001b[0;34m\u001b[0m\u001b[0;34m\u001b[0m\u001b[0m\n\u001b[1;32m     15\u001b[0m             \u001b[0mscore\u001b[0m \u001b[0;34m=\u001b[0m \u001b[0mnp\u001b[0m\u001b[0;34m.\u001b[0m\u001b[0mmean\u001b[0m\u001b[0;34m(\u001b[0m\u001b[0mself\u001b[0m\u001b[0;34m.\u001b[0m\u001b[0mstate_action_score\u001b[0m\u001b[0;34m[\u001b[0m\u001b[0mstate\u001b[0m\u001b[0;34m]\u001b[0m\u001b[0;34m[\u001b[0m\u001b[0maction\u001b[0m\u001b[0;34m]\u001b[0m\u001b[0;34m)\u001b[0m\u001b[0;34m\u001b[0m\u001b[0;34m\u001b[0m\u001b[0m\n\u001b[0;32m---> 16\u001b[0;31m             \u001b[0;32mif\u001b[0m \u001b[0mscore\u001b[0m \u001b[0;34m<\u001b[0m \u001b[0mbest_action\u001b[0m\u001b[0;34m:\u001b[0m\u001b[0;34m\u001b[0m\u001b[0;34m\u001b[0m\u001b[0m\n\u001b[0m\u001b[1;32m     17\u001b[0m                 \u001b[0mbest_action\u001b[0m \u001b[0;34m=\u001b[0m \u001b[0mscore\u001b[0m\u001b[0;34m\u001b[0m\u001b[0;34m\u001b[0m\u001b[0m\n\u001b[1;32m     18\u001b[0m                 \u001b[0mbest_action\u001b[0m \u001b[0;34m=\u001b[0m \u001b[0maction\u001b[0m\u001b[0;34m\u001b[0m\u001b[0;34m\u001b[0m\u001b[0m\n",
      "\u001b[0;31mTypeError\u001b[0m: '<' not supported between instances of 'float' and 'NoneType'"
     ]
    }
   ],
   "source": [
    "lender = train()"
   ]
  },
  {
   "cell_type": "code",
   "execution_count": 37,
   "id": "564ee295",
   "metadata": {},
   "outputs": [],
   "source": [
    "\n"
   ]
  },
  {
   "cell_type": "code",
   "execution_count": 53,
   "id": "7d16987b",
   "metadata": {},
   "outputs": [
    {
     "data": {
      "text/plain": [
       "array([-1.3, -1.2, -1.1, -1. , -0.9, -0.8, -0.7, -0.6, -0.5, -0.4, -0.3,\n",
       "       -0.2, -0.1,  0. ,  0.1,  0.2,  0.3,  0.4,  0.5,  0.6,  0.7,  0.8,\n",
       "        0.9,  1. ])"
      ]
     },
     "execution_count": 53,
     "metadata": {},
     "output_type": "execute_result"
    }
   ],
   "source": [
    "np.round(np.arange(-1.3,1.01,0.1),decimals=2)"
   ]
  },
  {
   "cell_type": "code",
   "execution_count": 4,
   "id": "6581427b",
   "metadata": {},
   "outputs": [],
   "source": [
    "from random import choice"
   ]
  },
  {
   "cell_type": "code",
   "execution_count": 5,
   "id": "5dd2b04e",
   "metadata": {},
   "outputs": [
    {
     "name": "stdout",
     "output_type": "stream",
     "text": [
      "0\n",
      "1\n"
     ]
    }
   ],
   "source": [
    "from collections import Counter, defaultdict\n",
    "a=Counter()\n",
    "print(a[1])\n",
    "a[1] +=1\n",
    "print(a[1])"
   ]
  },
  {
   "cell_type": "code",
   "execution_count": 8,
   "id": "5db955d6",
   "metadata": {},
   "outputs": [
    {
     "data": {
      "text/plain": [
       "0"
      ]
     },
     "execution_count": 8,
     "metadata": {},
     "output_type": "execute_result"
    }
   ],
   "source": [
    "a = defaultdict(Counter)\n",
    "a[0][0]"
   ]
  },
  {
   "cell_type": "code",
   "execution_count": 47,
   "id": "6b87377c",
   "metadata": {},
   "outputs": [
    {
     "data": {
      "text/plain": [
       "440.0"
      ]
     },
     "execution_count": 47,
     "metadata": {},
     "output_type": "execute_result"
    }
   ],
   "source": [
    "space = 1\n",
    "for _,b in bounderies.items():\n",
    "    options = (b[1]-b[0])/0.1\n",
    "    space *= options\n",
    "options*=4\n",
    "options"
   ]
  },
  {
   "cell_type": "code",
   "execution_count": 48,
   "id": "bbf72eef",
   "metadata": {},
   "outputs": [
    {
     "data": {
      "text/plain": [
       "38720.0"
      ]
     },
     "execution_count": 48,
     "metadata": {},
     "output_type": "execute_result"
    }
   ],
   "source": [
    "moves_per_game = 50\n",
    "games_to_train = options**2 * 10 /moves_per_game\n",
    "games_to_train"
   ]
  },
  {
   "cell_type": "code",
   "execution_count": null,
   "id": "877ea44c",
   "metadata": {},
   "outputs": [],
   "source": [
    "class PolicySolver:\n",
    "    \n",
    "    def __init__(self,action_space,gamma,turns_to_learn):\n",
    "        self.action_space = action_space\n",
    "        self.gamma\n",
    "        self.transition_model = defaultdict(Counter) # {state+action: state_0:count_0 ... state_n:count_n}\n",
    "        self.scores = defaultdict(list)\n",
    "        self.learn_policy(turns_to_learn)\n",
    "    \n",
    "    def normal_state(self,state):\n",
    "        return np.round(last_state[:6],decimals=2)\n",
    "    \n",
    "    def learn_policy(self,play_n_times):\n",
    "        env = gym.make('LunarLanderContinuous-v2')\n",
    "        \n",
    "        for time in range(play_n_times):\n",
    "            last_state = env.reset()\n",
    "            over = False\n",
    "            steps_taken = 0\n",
    "            states, rewards ,actions = [],[],[]\n",
    "            while not over:\n",
    "                action = choice(self.action_space)\n",
    "                state, reward, over, _ = env.step(action)\n",
    "                steps_taken+=1\n",
    "                states.append(state)\n",
    "                rewards.append(reward)\n",
    "                self.transition_model[(self.normal_state(last_state),action)][self.normal_state(state)] +=1\n",
    "                if steps_taken==200:break\n",
    "            \n",
    "            Bellman_rewards = []\n",
    "            rwords_for_long_train = np.array([])\n",
    "            for reword in rewards[::-1]:\n",
    "                rwords_for_long_train = np.append(rwords_for_long_train,np.array([reword]))\n",
    "                Bellman_rewards.append(np.sum(rwords_for_long_train))\n",
    "                rwords_for_long_train *= self.gamma\n",
    "            Bellman_rewards = Bellman_rewards[::-1]\n",
    "            \n",
    "            for state,reward in zip(states,Bellman_rewards):\n",
    "                self.scores[state].append(reward)\n",
    "        \n",
    "    def select_action(state):\n",
    "        best = None\n",
    "        best_score = -np.inf\n",
    "        for action in self.action_space:\n",
    "            if (state,action) in self.transition_model:\n",
    "                results_and_scores = [(times,self.scores[next_state],action) \n",
    "                                      for next_state,times in self.transition_model[(state,action)] ] \n",
    "                total_times = sum(i[0] for i in results_and_scores)\n",
    "                mean_scores = [i[0] * np.mean(i[1]) / total_times for i in results_and_scores]\n",
    "                if max(mean_scores)"
   ]
  },
  {
   "cell_type": "code",
   "execution_count": 9,
   "id": "d218e7af",
   "metadata": {},
   "outputs": [
    {
     "data": {
      "text/plain": [
       "[0]"
      ]
     },
     "execution_count": 9,
     "metadata": {},
     "output_type": "execute_result"
    }
   ],
   "source": [
    "def discritify():\n",
    "    \"\"\" finds all unique discrit values of the state \n",
    "    indexes 7,8 are binery, the rest are continuous\"\"\"\n",
    "    \n",
    "    \n",
    "    env = gym.make('LunarLanderContinuous-v2')\n",
    "    env.seed(2)\n",
    "    state = env.reset()\n",
    "    boundery_by_index = {idx:(val,val) for idx,val in enumerate(np.round(state[:6],decimals=2))}\n",
    "    action_space = [(0,0),(1,-1),(1,1)]\n",
    "    for i in range(10):\n",
    "        for action in action_space:\n",
    "            state = env.reset()\n",
    "            over = False\n",
    "            while not over:\n",
    "                state, reward, over, _ = env.step(action)\n",
    "                boundery_by_index = {idx:(min(boundery_by_index[idx][0],val),\n",
    "                                          max(boundery_by_index[idx][1],val)) \n",
    "                                          for idx,val in enumerate(np.round(state[:6],decimals=2))}\n",
    "    return boundery_by_index\n",
    "\n",
    "bounderies = discritify()"
   ]
  },
  {
   "cell_type": "code",
   "execution_count": null,
   "id": "b56d2979",
   "metadata": {},
   "outputs": [],
   "source": []
  },
  {
   "cell_type": "code",
   "execution_count": 24,
   "id": "8f1caf7b",
   "metadata": {},
   "outputs": [
    {
     "name": "stderr",
     "output_type": "stream",
     "text": [
      "100%|██████████| 10000/10000 [05:06<00:00, 32.59it/s]\n"
     ]
    }
   ],
   "source": [
    "def create_base():\n",
    "    for_final_df = {'iteration':[],'total_reward':[]}\n",
    "    env = gym.make('LunarLanderContinuous-v2')\n",
    "    env.seed(0)\n",
    "    state = env.reset()\n",
    "    action_space = [(0,0),(1,-1),(1,1)]\n",
    "    for time in tqdm(range(10_000)):\n",
    "        total_reward = 0\n",
    "        state = env.reset()\n",
    "        over = False\n",
    "        step = 0\n",
    "        while not over:\n",
    "            action = random.choice(action_space)\n",
    "            state, reward, over, _ = env.step(action)\n",
    "            total_reward += reward\n",
    "            step+=1\n",
    "            if step ==200:break\n",
    "        for_final_df['iteration'].append(len(for_final_df['iteration'])+1)\n",
    "        for_final_df['total_reward'].append(total_reward)\n",
    "    for_final_df['type']='random'\n",
    "    for_final_df['action_space_'] = 3\n",
    "    df = pd.DataFrame(for_final_df)\n",
    "    df.to_parquet('results.parquet.gzip',compression='gzip',index=False)\n",
    "create_base()"
   ]
  },
  {
   "cell_type": "code",
   "execution_count": 19,
   "id": "a97dd436",
   "metadata": {},
   "outputs": [],
   "source": []
  },
  {
   "cell_type": "code",
   "execution_count": 2,
   "id": "657b55bd",
   "metadata": {},
   "outputs": [
    {
     "data": {
      "text/plain": [
       "<AxesSubplot:xlabel='iteration', ylabel='total_reward'>"
      ]
     },
     "execution_count": 2,
     "metadata": {},
     "output_type": "execute_result"
    },
    {
     "data": {
      "image/png": "[encoded data removed]",
      "text/plain": [
       "<Figure size 432x288 with 1 Axes>"
      ]
     },
     "metadata": {
      "needs_background": "light"
     },
     "output_type": "display_data"
    }
   ],
   "source": [
    "results = pd.read_parquet('results.parquet.gzip')\n",
    "sns.lineplot(data=results, x=\"iteration\", y=\"total_reward\",hue='type')"
   ]
  },
  {
   "cell_type": "code",
   "execution_count": 5,
   "id": "32ed82e6",
   "metadata": {},
   "outputs": [
    {
     "data": {
      "text/html": [
       "<div>\n",
       "<style scoped>\n",
       "    .dataframe tbody tr th:only-of-type {\n",
       "        vertical-align: middle;\n",
       "    }\n",
       "\n",
       "    .dataframe tbody tr th {\n",
       "        vertical-align: top;\n",
       "    }\n",
       "\n",
       "    .dataframe thead th {\n",
       "        text-align: right;\n",
       "    }\n",
       "</style>\n",
       "<table border=\"1\" class=\"dataframe\">\n",
       "  <thead>\n",
       "    <tr style=\"text-align: right;\">\n",
       "      <th></th>\n",
       "      <th>iteration</th>\n",
       "      <th>total_reward</th>\n",
       "      <th>type</th>\n",
       "      <th>action_space_</th>\n",
       "    </tr>\n",
       "  </thead>\n",
       "  <tbody>\n",
       "    <tr>\n",
       "      <th>0</th>\n",
       "      <td>1</td>\n",
       "      <td>-510.968857</td>\n",
       "      <td>random</td>\n",
       "      <td>3</td>\n",
       "    </tr>\n",
       "    <tr>\n",
       "      <th>1</th>\n",
       "      <td>2</td>\n",
       "      <td>-546.147672</td>\n",
       "      <td>random</td>\n",
       "      <td>3</td>\n",
       "    </tr>\n",
       "    <tr>\n",
       "      <th>2</th>\n",
       "      <td>3</td>\n",
       "      <td>-560.761903</td>\n",
       "      <td>random</td>\n",
       "      <td>3</td>\n",
       "    </tr>\n",
       "    <tr>\n",
       "      <th>3</th>\n",
       "      <td>4</td>\n",
       "      <td>-640.366200</td>\n",
       "      <td>random</td>\n",
       "      <td>3</td>\n",
       "    </tr>\n",
       "    <tr>\n",
       "      <th>4</th>\n",
       "      <td>5</td>\n",
       "      <td>-448.159985</td>\n",
       "      <td>random</td>\n",
       "      <td>3</td>\n",
       "    </tr>\n",
       "  </tbody>\n",
       "</table>\n",
       "</div>"
      ],
      "text/plain": [
       "   iteration  total_reward    type  action_space_\n",
       "0          1   -510.968857  random              3\n",
       "1          2   -546.147672  random              3\n",
       "2          3   -560.761903  random              3\n",
       "3          4   -640.366200  random              3\n",
       "4          5   -448.159985  random              3"
      ]
     },
     "execution_count": 5,
     "metadata": {},
     "output_type": "execute_result"
    }
   ],
   "source": [
    "results.head()"
   ]
  },
  {
   "cell_type": "code",
   "execution_count": null,
   "id": "a2069d38",
   "metadata": {},
   "outputs": [],
   "source": []
  }
 ],
 "metadata": {
  "kernelspec": {
   "display_name": "Python 3",
   "language": "python",
   "name": "python3"
  },
  "language_info": {
   "codemirror_mode": {
    "name": "ipython",
    "version": 3
   },
   "file_extension": ".py",
   "mimetype": "text/x-python",
   "name": "python",
   "nbconvert_exporter": "python",
   "pygments_lexer": "ipython3",
   "version": "3.7.10"
  }
 },
 "nbformat": 4,
 "nbformat_minor": 5
}
