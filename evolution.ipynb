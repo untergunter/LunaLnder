{
 "cells": [
  {
   "cell_type": "code",
   "execution_count": 1,
   "id": "161a179d",
   "metadata": {},
   "outputs": [],
   "source": [
    "import gym\n",
    "\n",
    "import numpy as np\n",
    "import random\n",
    "import matplotlib\n",
    "import matplotlib.pyplot as plt\n",
    "%matplotlib inline\n",
    "\n",
    "import torch\n",
    "import torch.nn as nn\n",
    "import torch.optim as optim\n",
    "import torch.nn.functional as F\n"
   ]
  },
  {
   "cell_type": "code",
   "execution_count": 2,
   "id": "2113f13d",
   "metadata": {},
   "outputs": [],
   "source": [
    "env = gym.make('LunarLanderContinuous-v2')\n",
    "env.seed(0)\n",
    "state = env.reset()"
   ]
  },
  {
   "cell_type": "code",
   "execution_count": 3,
   "id": "e23b0802",
   "metadata": {},
   "outputs": [
    {
     "data": {
      "text/plain": [
       "device(type='cuda')"
      ]
     },
     "execution_count": 3,
     "metadata": {},
     "output_type": "execute_result"
    }
   ],
   "source": [
    "device = torch.device(\"cuda\" if torch.cuda.is_available() else \"cpu\")\n",
    "device"
   ]
  },
  {
   "cell_type": "code",
   "execution_count": 100,
   "id": "d47982cf",
   "metadata": {},
   "outputs": [],
   "source": [
    "class BasicNet(nn.Module):\n",
    "    def __init__(self):\n",
    "        super(BasicNet, self).__init__()\n",
    "        self.fc1 = nn.Linear(8,16)\n",
    "        self.fc2 = nn.Linear(16, 16)\n",
    "        self.fc3 = nn.Linear(16, 2)\n",
    "\n",
    "\n",
    "    def forward(self, x):\n",
    "        \"\"\" input = concat(state,action)\"\"\"\n",
    "        x = torch.from_numpy(x)\n",
    "        x = F.leaky_relu(self.fc1(x))\n",
    "        x = F.leaky_relu(self.fc2(x))\n",
    "        x = torch.tanh(self.fc3(x))\n",
    "        x = np.array(x)\n",
    "        return x\n",
    "    \n",
    "    \n",
    "    def mutate(self,number_of_mutations):\n",
    "        for time in range(number_of_mutations):\n",
    "            key = random.choice(self.state_dict().keys())\n",
    "            shape = self.state_dict()[key].shape\n",
    "            loc = (random.randint(0,maximum-1) for maximum in shape)\n",
    "            to_add = random.choice(0.01,-0.01)\n",
    "            self.state_dict()[key] += to_add\n",
    "            \n",
    "    def make_kid(self,other):\n",
    "        kid = BasicNet()\n",
    "        for key in self.state_dict().keys():\n",
    "            self_values = self.state_dict()[key]\n",
    "            other_values = other.state_dict()[key]\n",
    "            selector = torch.randn(self_values.shape)>0\n",
    "            kid.state_dict()[key][selector] = self_values[selector]\n",
    "            kid.state_dict()[key][~selector] = other_values[~selector]\n",
    "        return kid\n",
    "    \n",
    "net = BasicNet()"
   ]
  },
  {
   "cell_type": "code",
   "execution_count": 101,
   "id": "a110f242",
   "metadata": {},
   "outputs": [],
   "source": [
    "class evolution():\n",
    "    \n",
    "    def __init__(self,env):\n",
    "        self.env=env\n",
    "        self.pool = [BasicNet() for _ in range(50)]\n",
    "        \n",
    "    def play_game(self,model)->float:\n",
    "        with torch.no_grad():\n",
    "            over = False\n",
    "            total_score = 0\n",
    "            state = self.env.reset()\n",
    "            while not over:\n",
    "                action = model(state)\n",
    "                state, reward, over, _ = self.env.step(action)\n",
    "                total_score += reward\n",
    "            return total_score\n",
    "    \n",
    "    def evolve(self):\n",
    "        for generation in range(100):\n",
    "            scored_pool = [ (self.play_game(instance)) for instance in self.pool]\n",
    "            scored_pool.sort(reverse=True,key=lambda x:x[0])\n",
    "            print(f'best score = {scored_pool[0][0]}')\n",
    "            \n",
    "            best_instances = [i[1] for i in scored_pool[:20]]\n",
    "            self.pool = (instance.make_kid(random.choice(best_instances)) for instance in best_instances)"
   ]
  },
  {
   "cell_type": "code",
   "execution_count": 102,
   "id": "8115c755",
   "metadata": {},
   "outputs": [],
   "source": [
    "ev = evolution(env = gym.make('LunarLanderContinuous-v2'))"
   ]
  },
  {
   "cell_type": "code",
   "execution_count": null,
   "id": "8d35a19d",
   "metadata": {},
   "outputs": [],
   "source": []
  },
  {
   "cell_type": "code",
   "execution_count": null,
   "id": "7e7e5baa",
   "metadata": {},
   "outputs": [],
   "source": []
  },
  {
   "cell_type": "code",
   "execution_count": null,
   "id": "80f225d8",
   "metadata": {},
   "outputs": [],
   "source": []
  },
  {
   "cell_type": "code",
   "execution_count": null,
   "id": "04fe55a3",
   "metadata": {},
   "outputs": [],
   "source": []
  }
 ],
 "metadata": {
  "kernelspec": {
   "display_name": "Python 3",
   "language": "python",
   "name": "python3"
  },
  "language_info": {
   "codemirror_mode": {
    "name": "ipython",
    "version": 3
   },
   "file_extension": ".py",
   "mimetype": "text/x-python",
   "name": "python",
   "nbconvert_exporter": "python",
   "pygments_lexer": "ipython3",
   "version": "3.7.10"
  }
 },
 "nbformat": 4,
 "nbformat_minor": 5
}
